{
  "cells": [
    {
      "cell_type": "code",
      "execution_count": 1,
      "metadata": {
        "id": "ErWFiyqMqcuS"
      },
      "outputs": [],
      "source": [
        "from  sklearn import  datasets\n",
        "iris=datasets.load_iris()"
      ]
    },
    {
      "cell_type": "code",
      "execution_count": 2,
      "metadata": {
        "id": "1qdCCkvKrRjx"
      },
      "outputs": [],
      "source": [
        "x=iris.data\n",
        "y=iris.target"
      ]
    },
    {
      "cell_type": "code",
      "execution_count": 3,
      "metadata": {
        "id": "Qyxmtx1ErbEE"
      },
      "outputs": [],
      "source": [
        "from sklearn.model_selection import train_test_split\n",
        "x_train,x_test,y_train,y_test=train_test_split(x,y,test_size=.5)"
      ]
    },
    {
      "cell_type": "code",
      "execution_count": 4,
      "metadata": {
        "id": "a66k5NaWrjg7"
      },
      "outputs": [],
      "source": [
        "from sklearn import neighbors\n",
        "classifier=neighbors.KNeighborsClassifier()"
      ]
    },
    {
      "cell_type": "code",
      "execution_count": 5,
      "metadata": {
        "colab": {
          "base_uri": "https://localhost:8080/"
        },
        "id": "HeE5DMpKrnH7",
        "outputId": "de49d745-a696-48e7-bc33-112b82038e0f"
      },
      "outputs": [
        {
          "output_type": "execute_result",
          "data": {
            "text/plain": [
              "KNeighborsClassifier()"
            ]
          },
          "metadata": {},
          "execution_count": 5
        }
      ],
      "source": [
        "classifier.fit(x_train,y_train)"
      ]
    },
    {
      "cell_type": "code",
      "execution_count": 6,
      "metadata": {
        "id": "L9AdYQCmrr-z"
      },
      "outputs": [],
      "source": [
        "predictions=classifier.predict(x_test)"
      ]
    },
    {
      "cell_type": "code",
      "execution_count": 7,
      "metadata": {
        "colab": {
          "base_uri": "https://localhost:8080/"
        },
        "id": "W10XSNsWrxtr",
        "outputId": "fc9ec035-60ef-4331-a5a9-e9d7dc47af80"
      },
      "outputs": [
        {
          "output_type": "stream",
          "name": "stdout",
          "text": [
            "0.96\n"
          ]
        }
      ],
      "source": [
        "from sklearn.metrics import accuracy_score\n",
        "print(accuracy_score(y_test,predictions))"
      ]
    },
    {
      "cell_type": "code",
      "execution_count": 8,
      "metadata": {
        "id": "ASQV1C8MsMtm"
      },
      "outputs": [],
      "source": [
        "def score(sample):\n",
        "  import numpy as np\n",
        "  np_sample = np.array(sample)\n",
        "  pred = classifier.predict(np_sample.reshape(1, -1)).tolist()\n",
        "  return ['setosa', 'versicolor', 'virginica'][pred[0]]"
      ]
    },
    {
      "cell_type": "code",
      "execution_count": 9,
      "metadata": {
        "colab": {
          "base_uri": "https://localhost:8080/",
          "height": 36
        },
        "id": "qusJqAS5sVtb",
        "outputId": "7bf6d9db-4c40-4e3f-fba5-648336f37f18"
      },
      "outputs": [
        {
          "output_type": "execute_result",
          "data": {
            "text/plain": [
              "'setosa'"
            ],
            "application/vnd.google.colaboratory.intrinsic+json": {
              "type": "string"
            }
          },
          "metadata": {},
          "execution_count": 9
        }
      ],
      "source": [
        "import numpy as np\n",
        "sample=[1,2,3,4]\n",
        "score(sample)"
      ]
    },
    {
      "cell_type": "code",
      "execution_count": null,
      "metadata": {
        "colab": {
          "base_uri": "https://localhost:8080/"
        },
        "id": "kOIEHizwuDNS",
        "outputId": "535f3928-be50-4df5-e84d-3d3a5059f486"
      },
      "outputs": [
        {
          "output_type": "stream",
          "name": "stdout",
          "text": [
            " * Serving Flask app \"__main__\" (lazy loading)\n",
            " * Environment: production\n",
            "\u001b[31m   WARNING: This is a development server. Do not use it in a production deployment.\u001b[0m\n",
            "\u001b[2m   Use a production WSGI server instead.\u001b[0m\n",
            " * Debug mode: off\n"
          ]
        },
        {
          "output_type": "stream",
          "name": "stderr",
          "text": [
            "INFO:werkzeug: * Running on http://127.0.0.1:5000/ (Press CTRL+C to quit)\n"
          ]
        }
      ],
      "source": [
        "from flask import Flask, render_template, request\n",
        "app = Flask(__name__, template_folder='drive/My Drive/templates')\n",
        "@app.route(\"/\")\n",
        "def home():\n",
        "    return render_template('home.html')\n",
        "@app.route(\"/iris\")\n",
        "def iris():\n",
        "    return render_template('iris.html')\n",
        "@app.route('/predict',methods = ['POST', 'GET'])\n",
        "def predict():\n",
        "  if request.method == 'POST':\n",
        "      sl = request.form[' SL']\n",
        "      sw = request.form['SW']\n",
        "      pl = request.form['PL']\n",
        "      pw = request.form['PW']\n",
        "      sample = [int(sl),int(sw),int(pl),int(pw)]\n",
        "      pred = score(sample)\n",
        "      return render_template(\"pred.html\", value=pred)\n",
        "      \n",
        "if __name__ == \"__main__\":\n",
        "    app.run()\n"
      ]
    }
  ],
  "metadata": {
    "colab": {
      "toc_visible": true,
      "provenance": []
    },
    "kernelspec": {
      "display_name": "Python 3",
      "name": "python3"
    },
    "language_info": {
      "name": "python"
    }
  },
  "nbformat": 4,
  "nbformat_minor": 0
}